{
 "cells": [
  {
   "cell_type": "code",
   "execution_count": 1,
   "metadata": {},
   "outputs": [
    {
     "data": {
      "application/vnd.jupyter.widget-view+json": {
       "model_id": "51542348a5c44ee59b814d358cb93230",
       "version_major": 2,
       "version_minor": 0
      },
      "text/plain": [
       "VBox(children=(VBox(children=(HBox(children=(FloatText(value=0.0, description='전세금 (만원):', layout=Layout(margi…"
      ]
     },
     "metadata": {},
     "output_type": "display_data"
    }
   ],
   "source": [
    "import ipywidgets as widgets\n",
    "from IPython.core.display import display, HTML\n",
    "import pandas as pd\n",
    "\n",
    "# 스타일 및 레이아웃 설정\n",
    "style = {'description_width': 'initial'}\n",
    "layout_input = widgets.Layout(width='250px', margin='5px 10px')\n",
    "layout_button = widgets.Layout(width='220px', height='40px', margin='20px 0')\n",
    "layout_output = widgets.Layout(padding='10px', margin='10px 0', background='white', height='auto')\n",
    "layout_main_box = widgets.Layout(border='1px solid #007BFF', padding='20px', align_items='center', width='750px')  # 가로폭 조절\n",
    "\n",
    "# 입력 위젯 생성\n",
    "전세금_위젯 = widgets.FloatText(description='전세금 (만원):', style=style, layout=layout_input)\n",
    "연이자율_위젯 = widgets.FloatText(description='연 이자율 (%):', style=style, layout=layout_input)\n",
    "월세_보증금_위젯 = widgets.FloatText(description='월세 보증금 (만원):', style=style, layout=layout_input)\n",
    "월세금_위젯 = widgets.FloatText(description='월세금 (만원):', style=style, layout=layout_input)\n",
    "\n",
    "# 결과 출력 위젯 생성\n",
    "결과_위젯_전세 = widgets.Output(layout=layout_output)\n",
    "결과_위젯_월세 = widgets.Output(layout=layout_output)\n",
    "결과_위젯_비교 = widgets.Output(layout=layout_output)\n",
    "\n",
    "# 버튼 생성\n",
    "둘다_계산_버튼 = widgets.Button(description=\"둘 다 계산\", layout=layout_button)\n",
    "\n",
    "# 계산 함수\n",
    "def combined_calculation(b):\n",
    "    전세금 = 전세금_위젯.value\n",
    "    연이자율 = 연이자율_위젯.value / 100\n",
    "    월세보증금 = 월세_보증금_위젯.value\n",
    "    월세금 = 월세금_위젯.value\n",
    "\n",
    "    전세이자 = round((전세금 * 연이자율) / 12, 1)\n",
    "    월세월이자 = round((월세보증금 * 연이자율) / 12, 1)\n",
    "    실월납 = round((월세금 + 월세월이자) * 0.85, 1)\n",
    "\n",
    "    결과_위젯_전세.clear_output()\n",
    "    결과_위젯_월세.clear_output()\n",
    "    결과_위젯_비교.clear_output()\n",
    "    \n",
    "    with 결과_위젯_전세:\n",
    "        df_전세 = pd.DataFrame({\n",
    "            '항목': ['전세금', '연 이자율', '전세이자(만원/월)'],\n",
    "            '값': [전세금, 연이자율 * 100, 전세이자]\n",
    "        }).set_index('항목')\n",
    "        display(df_전세)\n",
    "    \n",
    "    with 결과_위젯_월세:\n",
    "        df_월세 = pd.DataFrame({\n",
    "            '항목': ['월세 보증금', '월세금', '월세 월 이자', '실월납(85%)'],\n",
    "            '값': [월세보증금, 월세금, 월세월이자, 실월납]\n",
    "        }).set_index('항목')\n",
    "        display(df_월세)\n",
    "    \n",
    "    with 결과_위젯_비교:\n",
    "        가성비 = \"전세\" if 전세이자 < 실월납 else \"월세\"\n",
    "        highlighted_message = f\"\"\"\n",
    "        <div style=\"background-color: #007BFF; color: white; padding: 10px; border-radius: 5px; text-align: center;\">\n",
    "            <strong style=\"color: yellow;\">{가성비}</strong>가 월 <strong style=\"color: yellow;\">{abs(전세이자 - 실월납):.1f}만원</strong> 더 이득!\n",
    "        </div>\n",
    "        \"\"\"\n",
    "        display(HTML(highlighted_message))\n",
    "\n",
    "둘다_계산_버튼.on_click(combined_calculation)\n",
    "\n",
    "# 위젯 배치\n",
    "입력_위젯 = widgets.VBox([\n",
    "    widgets.HBox([전세금_위젯, 연이자율_위젯]),\n",
    "    widgets.HBox([월세_보증금_위젯, 월세금_위젯]),\n",
    "    둘다_계산_버튼\n",
    "], layout=widgets.Layout(align_items='center', width='700px'))\n",
    "\n",
    "결과_위젯_수평배치 = widgets.HBox([결과_위젯_전세, 결과_위젯_비교, 결과_위젯_월세], layout=widgets.Layout(align_items='stretch'))\n",
    "\n",
    "# 전체 화면 출력\n",
    "main_box = widgets.VBox([입력_위젯, 결과_위젯_수평배치], layout=layout_main_box)\n",
    "display(main_box)\n"
   ]
  }
 ],
 "metadata": {
  "kernelspec": {
   "display_name": "base",
   "language": "python",
   "name": "python3"
  },
  "language_info": {
   "codemirror_mode": {
    "name": "ipython",
    "version": 3
   },
   "file_extension": ".py",
   "mimetype": "text/x-python",
   "name": "python",
   "nbconvert_exporter": "python",
   "pygments_lexer": "ipython3",
   "version": "3.9.12"
  }
 },
 "nbformat": 4,
 "nbformat_minor": 2
}
